{
 "cells": [
  {
   "cell_type": "markdown",
   "metadata": {},
   "source": [
    "# Final Project - Zhengyang Kris Weng Submission 12/10/2024"
   ]
  },
  {
   "attachments": {
    "image.png": {
     "image/png": "[encoded data removed]"
    }
   },
   "cell_type": "markdown",
   "metadata": {},
   "source": [
    "![image.png](attachment:image.png)\n",
    "\n",
    "two bodies, six degrees of freedom, includes impacts, has external forces (for shaking the cup),\n",
    "and is planar"
   ]
  },
  {
   "cell_type": "code",
   "execution_count": 26,
   "metadata": {},
   "outputs": [],
   "source": [
    "import sympy as sym\n",
    "import numpy as np\n",
    "from tqdm import tqdm\n",
    "import matplotlib.pyplot as plt\n",
    "from IPython.display import display, Markdown, HTML\n",
    "from plotly.offline import init_notebook_mode, iplot\n",
    "import plotly.graph_objects as go"
   ]
  },
  {
   "cell_type": "code",
   "execution_count": 27,
   "metadata": {},
   "outputs": [],
   "source": [
    "def TransToRp(T):\n",
    "    \"\"\"Converts a homogeneous transformation matrix into a rotation matrix\n",
    "    and position vector\n",
    "\n",
    "    :param T: A homogeneous transformation matrix\n",
    "    :return R: The corresponding rotation matrix,\n",
    "    :return p: The corresponding position vector.\n",
    "\n",
    "    Example Input:\n",
    "        T = np.array([[1, 0,  0, 0],\n",
    "                      [0, 0, -1, 0],\n",
    "                      [0, 1,  0, 3],\n",
    "                      [0, 0,  0, 1]])\n",
    "    Output:\n",
    "        (np.array([[1, 0,  0],\n",
    "                   [0, 0, -1],\n",
    "                   [0, 1,  0]]),\n",
    "         np.array([0, 0, 3]))\n",
    "    \"\"\"\n",
    "    R = T[:3, :3]\n",
    "    p = T[:3, 3]\n",
    "    return R, p\n",
    "\n",
    "\n",
    "def TransInv(T):\n",
    "    \"\"\"Inverts a homogeneous transformation matrix\n",
    "\n",
    "    :param T: A homogeneous transformation matrix\n",
    "    :return: The inverse of T\n",
    "    Uses the structure of transformation matrices to avoid taking a matrix\n",
    "    inverse, for efficiency.\n",
    "\n",
    "    Example input:\n",
    "        T = np.array([[1, 0,  0, 0],\n",
    "                      [0, 0, -1, 0],\n",
    "                      [0, 1,  0, 3],\n",
    "                      [0, 0,  0, 1]])\n",
    "    Output:\n",
    "        np.array([[1,  0, 0,  0],\n",
    "                  [0,  0, 1, -3],\n",
    "                  [0, -1, 0,  0],\n",
    "                  [0,  0, 0,  1]])\n",
    "    \"\"\"\n",
    "    R, p = TransToRp(T)\n",
    "    Rt = R.T\n",
    "    return sym.Matrix.vstack(sym.Matrix.hstack(Rt, -Rt * p), sym.Matrix([[0, 0, 0, 1]]))\n",
    "    \n",
    "def se3ToVec(se3mat):\n",
    "    \"\"\" Converts an se3 matrix into a spatial velocity vector\n",
    "\n",
    "    :param se3mat: A 4x4 matrix in se3\n",
    "    :return: The spatial velocity 6-vector corresponding to se3mat\n",
    "\n",
    "    Example Input:\n",
    "        se3mat = np.array([[ 0, -3,  2, 4],\n",
    "                           [ 3,  0, -1, 5],\n",
    "                           [-2,  1,  0, 6],\n",
    "                           [ 0,  0,  0, 0]])\n",
    "    Output:\n",
    "        np.array([1, 2, 3, 4, 5, 6])\n",
    "    \"\"\"\n",
    "    return sym.Matrix([se3mat[2, 1], se3mat[0, 2], se3mat[1, 0], se3mat[0, 3], se3mat[1, 3], se3mat[2, 3]])"
   ]
  },
  {
   "cell_type": "code",
   "execution_count": 28,
   "metadata": {},
   "outputs": [],
   "source": [
    "# Declare variables\n",
    "t, m, M, g, l, L = sym.symbols('t m M g l L')\n",
    "x_box = sym.Function('x_box')(t)\n",
    "y_box = sym.Function('y_box')(t)\n",
    "theta_box = sym.Function('theta_box')(t)\n",
    "x_jack = sym.Function('x_jack')(t)\n",
    "y_jack = sym.Function('y_jack')(t)\n",
    "theta_jack = sym.Function('theta_jack')(t)\n",
    "\n",
    "q = sym.Matrix([x_box, y_box, theta_box, x_jack, y_jack, theta_jack])\n",
    "qdot = q.diff(t)\n",
    "qddot = qdot.diff(t)"
   ]
  },
  {
   "cell_type": "code",
   "execution_count": 29,
   "metadata": {},
   "outputs": [],
   "source": [
    "# Transformations\n",
    "\n",
    "# world to box\n",
    "g_w_b = sym.Matrix([[sym.cos(theta_box), -sym.sin(theta_box), 0, x_box], [sym.sin(theta_box), sym.cos(theta_box), 0, y_box], [0, 0, 1, 0], [0, 0, 0, 1]])\n",
    "g_b_b1 = sym.Matrix([[1, 0, 0, L], [0, 1, 0, 0], [0, 0, 1, 0], [0, 0, 0, 1]])\n",
    "g_b_b2 = sym.Matrix([[1, 0, 0, 0], [0, 1, 0, -L], [0, 0, 1, 0], [0, 0, 0, 1]])\n",
    "g_b_b3 = sym.Matrix([[1, 0, 0, -L], [0, 1, 0, 0], [0, 0, 1, 0], [0, 0, 0, 1]])\n",
    "g_b_b4 = sym.Matrix([[1, 0, 0, 0], [0, 1, 0, L], [0, 0, 1, 0], [0, 0, 0, 1]])\n",
    "\n",
    "# world to jack\n",
    "g_w_j = sym.Matrix([[sym.cos(theta_jack), -sym.sin(theta_jack), 0, x_jack], [sym.sin(theta_jack), sym.cos(theta_jack), 0, y_jack], [0, 0, 1, 0], [0, 0, 0, 1]])\n",
    "g_j_j1 = sym.Matrix([[1, 0, 0, l], [0, 1, 0, 0], [0, 0, 1, 0], [0, 0, 0, 1]])\n",
    "g_j_j2 = sym.Matrix([[1, 0, 0, 0], [0, 1, 0, -l], [0, 0, 1, 0], [0, 0, 0, 1]])\n",
    "g_j_j3 = sym.Matrix([[1, 0, 0, -l], [0, 1, 0, 0], [0, 0, 1, 0], [0, 0, 0, 1]])\n",
    "g_j_j4 = sym.Matrix([[1, 0, 0, 0], [0, 1, 0, l], [0, 0, 1, 0], [0, 0, 0, 1]])\n",
    "\n",
    "# world to box sides\n",
    "g_w_b1 = g_w_b * g_b_b1\n",
    "g_w_b2 = g_w_b * g_b_b2\n",
    "g_w_b3 = g_w_b * g_b_b3\n",
    "g_w_b4 = g_w_b * g_b_b4\n",
    "\n",
    "# world to jack ends\n",
    "g_w_j1 = g_w_j * g_j_j1\n",
    "g_w_j2 = g_w_j * g_j_j2\n",
    "g_w_j3 = g_w_j * g_j_j3\n",
    "g_w_j4 = g_w_j * g_j_j4"
   ]
  },
  {
   "cell_type": "code",
   "execution_count": 30,
   "metadata": {},
   "outputs": [
    {
     "name": "stdout",
     "output_type": "stream",
     "text": [
      "EL Equation:\n"
     ]
    },
    {
     "data": {
      "text/latex": [
       "$\\displaystyle 0.5 L^{2} M \\left(\\frac{d}{d t} \\theta_{box}{\\left(t \\right)}\\right)^{2} + 0.5 M \\left(\\frac{d}{d t} x_{box}{\\left(t \\right)}\\right)^{2} + 0.5 M \\left(\\frac{d}{d t} y_{box}{\\left(t \\right)}\\right)^{2} - g \\left(M y_{box}{\\left(t \\right)} + m y_{jack}{\\left(t \\right)}\\right) + 0.5 l^{2} m \\left(\\frac{d}{d t} \\theta_{jack}{\\left(t \\right)}\\right)^{2} + 0.5 m \\left(\\frac{d}{d t} x_{jack}{\\left(t \\right)}\\right)^{2} + 0.5 m \\left(\\frac{d}{d t} y_{jack}{\\left(t \\right)}\\right)^{2}$"
      ],
      "text/plain": [
       "0.5*L**2*M*Derivative(theta_box(t), t)**2 + 0.5*M*Derivative(x_box(t), t)**2 + 0.5*M*Derivative(y_box(t), t)**2 - g*(M*y_box(t) + m*y_jack(t)) + 0.5*l**2*m*Derivative(theta_jack(t), t)**2 + 0.5*m*Derivative(x_jack(t), t)**2 + 0.5*m*Derivative(y_jack(t), t)**2"
      ]
     },
     "metadata": {},
     "output_type": "display_data"
    }
   ],
   "source": [
    "# impact relations\n",
    "g_w_b_list = [g_w_b1, g_w_b2, g_w_b3, g_w_b4]\n",
    "g_w_j_list = [g_w_j1, g_w_j2, g_w_j3, g_w_j4]\n",
    "\n",
    "g_b_j = [[TransInv(g_w_b) * g_w_j for g_w_j in g_w_j_list] for g_w_b in g_w_b_list]\n",
    "# display(g_b_j)\n",
    "\n",
    "# Velocity\n",
    "v_box = se3ToVec(np.array(TransInv(g_w_b) * g_w_b.diff(t)))\n",
    "v_jack = se3ToVec(np.array(TransInv(g_w_j) * g_w_j.diff(t)))\n",
    "\n",
    "j_jack = 4*(m/4)*l**2\n",
    "j_box = 4*(M/4)*L**2\n",
    "# display(j_box)\n",
    "\n",
    "I_box = sym.Matrix([[0, 0, 0, 0, 0, 0],\n",
    "                    [0, 0, 0, 0, 0, 0],\n",
    "                    [0, 0, j_box, 0, 0, 0],\n",
    "                    [0, 0, 0, M, 0, 0],\n",
    "                    [0, 0, 0, 0, M, 0],\n",
    "                    [0, 0, 0, 0, 0, M]])\n",
    "I_jack = sym.Matrix([[0, 0, 0, 0, 0, 0],\n",
    "                    [0, 0, 0, 0, 0, 0],\n",
    "                    [0, 0, j_jack, 0, 0, 0],\n",
    "                    [0, 0, 0, m, 0, 0],\n",
    "                    [0, 0, 0, 0, m, 0],\n",
    "                    [0, 0, 0, 0, 0, m]])\n",
    "\n",
    "# Kinetic energy\n",
    "T_box = 0.5 * v_box.dot(I_box * v_box)\n",
    "T_jack = 0.5 * v_jack.dot(I_jack * v_jack)\n",
    "\n",
    "KE = T_box + T_jack\n",
    "\n",
    "# Potential Energy\n",
    "PE = m*g*y_jack + M*g*y_box\n",
    "\n",
    "# Calculate the Lagrangian:\n",
    "L = KE.simplify() - PE.simplify()\n",
    "print(\"EL Equation:\")\n",
    "display(L)\n"
   ]
  },
  {
   "cell_type": "code",
   "execution_count": 31,
   "metadata": {},
   "outputs": [
    {
     "data": {
      "text/latex": [
       "$\\displaystyle \\left[\\begin{matrix}1.0 M \\frac{d^{2}}{d t^{2}} x_{box}{\\left(t \\right)}\\\\M \\left(g + 1.0 \\frac{d^{2}}{d t^{2}} y_{box}{\\left(t \\right)}\\right)\\\\1.0 L^{2} M \\frac{d^{2}}{d t^{2}} \\theta_{box}{\\left(t \\right)}\\\\1.0 m \\frac{d^{2}}{d t^{2}} x_{jack}{\\left(t \\right)}\\\\m \\left(g + 1.0 \\frac{d^{2}}{d t^{2}} y_{jack}{\\left(t \\right)}\\right)\\\\1.0 l^{2} m \\frac{d^{2}}{d t^{2}} \\theta_{jack}{\\left(t \\right)}\\end{matrix}\\right] = \\left[\\begin{matrix}0\\\\M g\\\\50 \\sin{\\left(\\pi t \\right)}\\\\0\\\\0\\\\0\\end{matrix}\\right]$"
      ],
      "text/plain": [
       "Eq(Matrix([\n",
       "[          1.0*M*Derivative(x_box(t), (t, 2))],\n",
       "[    M*(g + 1.0*Derivative(y_box(t), (t, 2)))],\n",
       "[ 1.0*L**2*M*Derivative(theta_box(t), (t, 2))],\n",
       "[         1.0*m*Derivative(x_jack(t), (t, 2))],\n",
       "[   m*(g + 1.0*Derivative(y_jack(t), (t, 2)))],\n",
       "[1.0*l**2*m*Derivative(theta_jack(t), (t, 2))]]), Matrix([\n",
       "[           0],\n",
       "[         M*g],\n",
       "[50*sin(pi*t)],\n",
       "[           0],\n",
       "[           0],\n",
       "[           0]]))"
      ]
     },
     "metadata": {},
     "output_type": "display_data"
    },
    {
     "name": "stdout",
     "output_type": "stream",
     "text": [
      "\n",
      "\u001b[1mSymbolic Solution: \n"
     ]
    },
    {
     "data": {
      "text/latex": [
       "$\\displaystyle \\frac{d^{2}}{d t^{2}} x_{box}{\\left(t \\right)} = 0.0$"
      ],
      "text/plain": [
       "Eq(Derivative(x_box(t), (t, 2)), 0.0)"
      ]
     },
     "metadata": {},
     "output_type": "display_data"
    },
    {
     "data": {
      "text/latex": [
       "$\\displaystyle \\frac{d^{2}}{d t^{2}} y_{box}{\\left(t \\right)} = 0.0$"
      ],
      "text/plain": [
       "Eq(Derivative(y_box(t), (t, 2)), 0.0)"
      ]
     },
     "metadata": {},
     "output_type": "display_data"
    },
    {
     "data": {
      "text/latex": [
       "$\\displaystyle \\frac{d^{2}}{d t^{2}} \\theta_{box}{\\left(t \\right)} = \\frac{50.0 \\sin{\\left(3.14159265358979 t \\right)}}{L^{2} M}$"
      ],
      "text/plain": [
       "Eq(Derivative(theta_box(t), (t, 2)), 50.0*sin(3.14159265358979*t)/(L**2*M))"
      ]
     },
     "metadata": {},
     "output_type": "display_data"
    },
    {
     "data": {
      "text/latex": [
       "$\\displaystyle \\frac{d^{2}}{d t^{2}} x_{jack}{\\left(t \\right)} = 0.0$"
      ],
      "text/plain": [
       "Eq(Derivative(x_jack(t), (t, 2)), 0.0)"
      ]
     },
     "metadata": {},
     "output_type": "display_data"
    },
    {
     "data": {
      "text/latex": [
       "$\\displaystyle \\frac{d^{2}}{d t^{2}} y_{jack}{\\left(t \\right)} = - g$"
      ],
      "text/plain": [
       "Eq(Derivative(y_jack(t), (t, 2)), -g)"
      ]
     },
     "metadata": {},
     "output_type": "display_data"
    },
    {
     "data": {
      "text/latex": [
       "$\\displaystyle \\frac{d^{2}}{d t^{2}} \\theta_{jack}{\\left(t \\right)} = 0.0$"
      ],
      "text/plain": [
       "Eq(Derivative(theta_jack(t), (t, 2)), 0.0)"
      ]
     },
     "metadata": {},
     "output_type": "display_data"
    }
   ],
   "source": [
    "# EL equations\n",
    "dLdq = sym.Matrix([L]).jacobian(q).T\n",
    "dLdqdot = sym.Matrix([L]).jacobian(qdot).T\n",
    "dLdqdotdt = dLdqdot.diff(t)\n",
    "\n",
    "# Let there be force\n",
    "f_y_box = M*g\n",
    "f_theta_box = 50*sym.sin(sym.pi*t)\n",
    "F = sym.Matrix([0, f_y_box, f_theta_box, 0, 0, 0])\n",
    "\n",
    "EL_lhs = dLdqdotdt - dLdq\n",
    "EL_rhs = F\n",
    "EL_lhs.simplify()\n",
    "EL_rhs.simplify()\n",
    "EL_eqn = sym.Eq(EL_lhs, EL_rhs)\n",
    "display(EL_eqn)\n",
    "\n",
    "\n",
    "# Solve\n",
    "soln = sym.solve(EL_eqn, qddot, dict=True)\n",
    "for sol in soln:\n",
    "    print('\\n\\033[1mSymbolic Solution: ')\n",
    "    for v in qddot:\n",
    "        display(sym.Eq(v, sol[v].simplify()))"
   ]
  }
 ],
 "metadata": {
  "kernelspec": {
   "display_name": "Python 3",
   "language": "python",
   "name": "python3"
  },
  "language_info": {
   "codemirror_mode": {
    "name": "ipython",
    "version": 3
   },
   "file_extension": ".py",
   "mimetype": "text/x-python",
   "name": "python",
   "nbconvert_exporter": "python",
   "pygments_lexer": "ipython3",
   "version": "3.9.0"
  }
 },
 "nbformat": 4,
 "nbformat_minor": 2
}
